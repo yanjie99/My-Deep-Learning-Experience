{
 "cells": [
  {
   "cell_type": "markdown",
   "metadata": {},
   "source": [
    "手写数字识别器（练习）\n",
    "------\n",
    "在追逐梦想的道路上勇往直行"
   ]
  },
  {
   "cell_type": "code",
   "execution_count": 21,
   "metadata": {},
   "outputs": [],
   "source": [
    "# 引入该CNN所需的包\n",
    "import torch\n",
    "import torch.nn as nn\n",
    "from torch.autograd import Variable\n",
    "import torch.optim as optim\n",
    "import torch.nn.functional as F\n",
    "import torchvision.datasets as dsets\n",
    "import torchvision.transforms as transforms\n",
    "import matplotlib.pyplot as plt\n",
    "import numpy as np\n",
    "\n",
    "# 以下语句可以让JupyterNotebook直接输出图像\n",
    "%matplotlib inline"
   ]
  },
  {
   "cell_type": "code",
   "execution_count": 2,
   "metadata": {},
   "outputs": [],
   "source": [
    "# 定义一些训练用的超参数\n",
    "# 图像的总尺寸28x28\n",
    "image_size = 28\n",
    "# 标签的种类数\n",
    "num_classes = 10\n",
    "# 训练的总循环周期\n",
    "num_epochs = 20\n",
    "# 一个批次的大小，64张图片\n",
    "batch_size = 64"
   ]
  },
  {
   "cell_type": "code",
   "execution_count": 3,
   "metadata": {},
   "outputs": [],
   "source": [
    "# 加载MNIST数据，如果没有下载过，系统就会在当前路径下新建/data子目录，并把文件存放在其中（压缩的格式）\n",
    "# MNSIT数据属于torchvision包自带的数据，可以直接调用\n",
    "# 但用户想要调用自己的图像数据时，可以用torchvision.datasets.ImageFloder\n",
    "# 或torch.utlis.data.TensorDataset来加载\n",
    "train_dataset = dsets.MNIST(root='./data',train=True,transform=transforms.ToTensor(),download=True)\n",
    "                          # 文件存放路径，提取训练集，将图像转换为Tensor，在加载图像时就可以对其做预处理，找不到文件的时候就可以自动下载\n",
    "# 加载测试数据\n",
    "test_dataset = dsets.MNIST(root='./data',train=False,transform=transforms.ToTensor())\n",
    "# 训练数据集的加载器，自动将数据切成分批，顺序随机打乱\n",
    "train_loader = torch.utils.data.DataLoader(dataset=train_dataset,batch_size=batch_size,shuffle=True)\n",
    "\n",
    "'''我们希望将测试数据分成两部分，一部分作为校验数据，一部分作为测试数据\n",
    "校验数据用于检测模型是否过拟合并调整参数，测试数据检验整个模型的工作'''\n",
    "\n",
    "# 首先，定义下标数组indices，它相当于对所有test_dataset中数据的编码\n",
    "# 然后，定义下标indices_val 表示校验集数据的下标，indices_test 表示测试数据集的下标\n",
    "indices = range(len(test_dataset))\n",
    "indices_val = indices[:5000]\n",
    "indices_test = indices[5000:]\n",
    "\n",
    "# 根据下标构造的两个数据集的SubsetRandomSampler 采样器，它会对下标进行采样\n",
    "sampler_val = torch.utils.data.sampler.SubsetRandomSampler(indices_val)\n",
    "sampler_test = torch.utils.data.sampler.SubsetRandomSampler(indices_test)\n",
    "\n",
    "# 根据两个采样器定义加载器\n",
    "# 注意将sampler_val 和 sampler_test 分别赋值给了validation_loader 和 test_loader\n",
    "validation_loader = torch.utils.data.DataLoader(dataset=test_dataset,batch_size=batch_size,shuffle=False,sampler=sampler_val)\n",
    "test_loader = torch.utils.data.DataLoader(dataset=test_dataset,batch_size=batch_size,shuffle=False,sampler=sampler_test)"
   ]
  },
  {
   "cell_type": "code",
   "execution_count": 18,
   "metadata": {},
   "outputs": [
    {
     "name": "stdout",
     "output_type": "stream",
     "text": [
      "标签是： 5\n"
     ]
    },
    {
     "data": {
      "image/png": "[encoded data removed]",
      "text/plain": [
       "<Figure size 432x288 with 1 Axes>"
      ]
     },
     "metadata": {
      "needs_background": "light"
     },
     "output_type": "display_data"
    }
   ],
   "source": [
    "# 随便从数据集中读入一张图片，并绘制出来\n",
    "idx = 100\n",
    "# dataset 支持下标索引，其中提取出来的元素为features,target格式，即属性和标签 【0】表示索引features\n",
    "muteimg = train_dataset[idx][0].numpy()\n",
    "# print(muteimg.size)\n",
    "# print(muteimg[0].size)\n",
    "# print(muteimg[0].shape)\n",
    "# print(muteimg.shape)\n",
    "# print(type(muteimg))\n",
    "# print(muteimg[0])\n",
    "# 一般的图像包含RGB这三个通道，而MNIST数据集的图像都是灰度的，只有一个通道\n",
    "# 因此，我们忽略通道，把图像看作为一个灰度矩阵\n",
    "# 用 imshow 画图，会将灰度矩阵自动展现为彩色，不同灰度对应不同的颜色，从黄到紫\n",
    "\n",
    "plt.imshow(muteimg[0])\n",
    "print('标签是：',train_dataset[idx][1])"
   ]
  },
  {
   "cell_type": "code",
   "execution_count": 48,
   "metadata": {},
   "outputs": [],
   "source": [
    "# 定义卷积神经网络，4和8为人为指定的两个卷积层的厚度（features map 的数量）\n",
    "depth = [4,8]\n",
    "class ConvNet(nn.Module):\n",
    "    def __init__(self):\n",
    "        # 该函数在创建一个ConvNet对象即调用语句net=ConvNet（）时就会被调用\n",
    "        # 首先调用父类相应的构造函数\n",
    "        super(ConvNet,self).__init__()\n",
    "        \n",
    "        # 其次构造ConvNet需要用到的各个神经模块\n",
    "        # 注意，定义组件并不是真正的搭建组件，只是把基本建筑砖块先找好\n",
    "        # 定义一个卷积层，输入通道为1，输出通道为4，窗口大小为5，padding为2\n",
    "        self.conv1 = nn.Conv2d(1,4,5,padding=2)\n",
    "        # 定义一个池化层，一个窗口为2X2的池化运算\n",
    "        self.pool = nn.MaxPool2d(2,2)\n",
    "        \n",
    "        # 第二层卷积，输入通道为depth[0],输出通道为depth[1]，窗口大小为5，padding为2\n",
    "        self.conv2 = nn.Conv2d(depth[0],depth[1],5,padding=2)\n",
    "        \n",
    "        # 一个线性连接层，输入尺寸为最后一层立方体的线性平铺，输出层512个节点\n",
    "        self.fc1 = nn.Linear(image_size // 4 * image_size // 4 * depth[1],512)\n",
    "        # 最后一层的线性分类单元，输入为512，输出为要做分类的类别数\n",
    "        self.fc2 = nn.Linear(512,num_classes)\n",
    "        \n",
    "    # 该函数完成神经网络真正的前向运算，在这里把各个组件进行实际拼装\n",
    "    def forward(self,x):\n",
    "        # x 的尺寸：(batch_size,image_channels,image_width,image_height)\n",
    "        x = self.conv1(x) # 第一层卷积\n",
    "        x = F.relu(x)     # 激活函数用ReLU，防止过拟合\n",
    "        # x 的尺寸：(batch_size,num_filters,image_width,image_height)\n",
    "        \n",
    "        x = self.pool(x)  # 第二层池化,将图片变小\n",
    "        # x 的尺寸：(batch_size,depth[0],image_width/2,image_height/2)\n",
    "        \n",
    "        x = self.conv2(x) # 第三层又是卷积，窗口为5，输入输出通道分为别是depth[0]=4,depth[1]=8\n",
    "        x = F.relu(x)     # 非线性函数\n",
    "        # x 的尺寸:(batch_size,depth[1],image_width/2,image_height/2)\n",
    "        \n",
    "        x = self.pool(x)  # 第四层池化，将图片缩小为原来的1/4\n",
    "        # x 的尺寸:(batch_size,depth[1],image_width/4,image_height/4)\n",
    "        \n",
    "        # 将立体图的特征图tensor压缩成一个一维的向量\n",
    "        # view函数可以将一个tensor按指定的方式重新排部\n",
    "        # 下面这个命令就是要让x按照batch_size * (image_size//4)^2*depth[1] 的方式来排部向量\n",
    "        x = x.view(-1,image_size//4*image_size//4*depth[1])\n",
    "        # x 的尺寸:(batch_size,depth[1]*image_size/4*image_size/4)\n",
    "        \n",
    "        x = F.relu(self.fc1(x)) # 第五层为全连接，ReLU激活函数\n",
    "        # x 的尺寸:(batch_size,512)\n",
    "        \n",
    "        # 以默认的0.5的概率对这一层进行dropout操作，防止过拟合\n",
    "        x = F.dropout(x,training=self.training)\n",
    "        x = self.fc2(x) # 全连接\n",
    "        # x 的尺寸:(batch_size,num_classes)\n",
    "        \n",
    "        # 输出层为log_softmax,即 概率 对数值log(p(x))。采用log_softmax 可以使后面的交叉熵计算更快\n",
    "        x = F.log_softmax(x,dim=1)\n",
    "        return x\n",
    "    \n",
    "    def retrieve_features(self,x):\n",
    "        # 该函数用于提取卷积神经网络的特征图，返回feature_map1,feature_map2为前两层卷积层的特征图\n",
    "        feature_map1 = F.relu(self.conv1(x)) # 完成第一层卷积\n",
    "        x = self.pool(feature_map1) # 完成第一次池化\n",
    "        # 第二次卷积，两层的特征图都储存到了feature_map1,feature_map2中\n",
    "        feature_map2 = F.relu(self.conv2(x))\n",
    "        return (feature_map1,feature_map2)"
   ]
  },
  {
   "cell_type": "code",
   "execution_count": 51,
   "metadata": {},
   "outputs": [],
   "source": [
    "def rightness(predictions,labels):\n",
    "    '''计算预测错误率的函数，其中prediction是模型给出的一组预测结果，\n",
    "       batch_size行num_classes列的矩阵，labels是数据之中的正确的答案'''\n",
    "    pred = torch.max(predictions.data,1)[1]\n",
    "    # 对于任意一行（一个样本）的输出值的第一个维度，求最大，得到每一行的最大元素的下标\n",
    "    rights = pred.eq(labels.data.view_as(pred)).sum()\n",
    "    # 将下标与labels中包含的类别进行比较，并累计得到比较正确的数量\n",
    "    return rights,len(labels)\n",
    "    # 返回正确的数量和这一次一共比较了多少元素"
   ]
  },
  {
   "cell_type": "code",
   "execution_count": 52,
   "metadata": {},
   "outputs": [
    {
     "name": "stdout",
     "output_type": "stream",
     "text": [
      "训练周期:0[0/60000(0%)]\t,Loss:2.307004\t,训练正确率:10.94%\t,                  校验正确率:16.58%\n",
      "训练周期:0[800/60000(11%)]\t,Loss:0.605116\t,训练正确率:63.60%\t,                  校验正确率:83.54%\n",
      "训练周期:0[1600/60000(21%)]\t,Loss:0.315052\t,训练正确率:75.25%\t,                  校验正确率:89.24%\n",
      "训练周期:0[2400/60000(32%)]\t,Loss:0.324418\t,训练正确率:80.62%\t,                  校验正确率:92.80%\n",
      "训练周期:0[3200/60000(43%)]\t,Loss:0.220666\t,训练正确率:83.76%\t,                  校验正确率:94.84%\n",
      "训练周期:0[4000/60000(53%)]\t,Loss:0.190878\t,训练正确率:85.85%\t,                  校验正确率:94.50%\n",
      "训练周期:0[4800/60000(64%)]\t,Loss:0.142233\t,训练正确率:87.38%\t,                  校验正确率:95.28%\n",
      "训练周期:0[5600/60000(75%)]\t,Loss:0.151697\t,训练正确率:88.51%\t,                  校验正确率:96.18%\n",
      "训练周期:0[6400/60000(85%)]\t,Loss:0.074957\t,训练正确率:89.39%\t,                  校验正确率:96.36%\n",
      "训练周期:0[7200/60000(96%)]\t,Loss:0.056402\t,训练正确率:90.13%\t,                  校验正确率:96.80%\n",
      "训练周期:1[0/60000(0%)]\t,Loss:0.094271\t,训练正确率:96.88%\t,                  校验正确率:96.20%\n",
      "训练周期:1[800/60000(11%)]\t,Loss:0.040364\t,训练正确率:96.60%\t,                  校验正确率:96.76%\n",
      "训练周期:1[1600/60000(21%)]\t,Loss:0.202076\t,训练正确率:96.46%\t,                  校验正确率:96.98%\n",
      "训练周期:1[2400/60000(32%)]\t,Loss:0.166090\t,训练正确率:96.55%\t,                  校验正确率:97.22%\n",
      "训练周期:1[3200/60000(43%)]\t,Loss:0.018252\t,训练正确率:96.71%\t,                  校验正确率:97.34%\n",
      "训练周期:1[4000/60000(53%)]\t,Loss:0.095589\t,训练正确率:96.75%\t,                  校验正确率:97.28%\n",
      "训练周期:1[4800/60000(64%)]\t,Loss:0.054646\t,训练正确率:96.75%\t,                  校验正确率:97.38%\n",
      "训练周期:1[5600/60000(75%)]\t,Loss:0.177921\t,训练正确率:96.82%\t,                  校验正确率:97.24%\n",
      "训练周期:1[6400/60000(85%)]\t,Loss:0.065030\t,训练正确率:96.88%\t,                  校验正确率:97.38%\n",
      "训练周期:1[7200/60000(96%)]\t,Loss:0.040004\t,训练正确率:96.95%\t,                  校验正确率:97.38%\n",
      "训练周期:2[0/60000(0%)]\t,Loss:0.065590\t,训练正确率:96.88%\t,                  校验正确率:97.28%\n",
      "训练周期:2[800/60000(11%)]\t,Loss:0.050878\t,训练正确率:97.66%\t,                  校验正确率:97.60%\n",
      "训练周期:2[1600/60000(21%)]\t,Loss:0.019667\t,训练正确率:97.69%\t,                  校验正确率:97.76%\n",
      "训练周期:2[2400/60000(32%)]\t,Loss:0.051556\t,训练正确率:97.65%\t,                  校验正确率:97.74%\n",
      "训练周期:2[3200/60000(43%)]\t,Loss:0.106350\t,训练正确率:97.59%\t,                  校验正确率:97.82%\n",
      "训练周期:2[4000/60000(53%)]\t,Loss:0.097858\t,训练正确率:97.64%\t,                  校验正确率:97.62%\n",
      "训练周期:2[4800/60000(64%)]\t,Loss:0.118507\t,训练正确率:97.68%\t,                  校验正确率:97.42%\n",
      "训练周期:2[5600/60000(75%)]\t,Loss:0.058055\t,训练正确率:97.66%\t,                  校验正确率:97.48%\n",
      "训练周期:2[6400/60000(85%)]\t,Loss:0.134997\t,训练正确率:97.65%\t,                  校验正确率:97.68%\n",
      "训练周期:2[7200/60000(96%)]\t,Loss:0.059261\t,训练正确率:97.65%\t,                  校验正确率:97.92%\n",
      "训练周期:3[0/60000(0%)]\t,Loss:0.029530\t,训练正确率:100.00%\t,                  校验正确率:97.64%\n",
      "训练周期:3[800/60000(11%)]\t,Loss:0.089198\t,训练正确率:98.00%\t,                  校验正确率:98.04%\n",
      "训练周期:3[1600/60000(21%)]\t,Loss:0.035213\t,训练正确率:98.06%\t,                  校验正确率:98.08%\n",
      "训练周期:3[2400/60000(32%)]\t,Loss:0.040937\t,训练正确率:98.15%\t,                  校验正确率:97.90%\n",
      "训练周期:3[3200/60000(43%)]\t,Loss:0.069037\t,训练正确率:98.04%\t,                  校验正确率:97.68%\n",
      "训练周期:3[4000/60000(53%)]\t,Loss:0.059363\t,训练正确率:98.02%\t,                  校验正确率:97.36%\n",
      "训练周期:3[4800/60000(64%)]\t,Loss:0.045602\t,训练正确率:97.98%\t,                  校验正确率:98.14%\n",
      "训练周期:3[5600/60000(75%)]\t,Loss:0.104535\t,训练正确率:98.04%\t,                  校验正确率:98.06%\n",
      "训练周期:3[6400/60000(85%)]\t,Loss:0.041306\t,训练正确率:98.06%\t,                  校验正确率:97.88%\n",
      "训练周期:3[7200/60000(96%)]\t,Loss:0.029815\t,训练正确率:98.07%\t,                  校验正确率:98.04%\n",
      "训练周期:4[0/60000(0%)]\t,Loss:0.010080\t,训练正确率:100.00%\t,                  校验正确率:98.06%\n",
      "训练周期:4[800/60000(11%)]\t,Loss:0.069146\t,训练正确率:98.10%\t,                  校验正确率:98.02%\n",
      "训练周期:4[1600/60000(21%)]\t,Loss:0.038427\t,训练正确率:98.16%\t,                  校验正确率:98.16%\n",
      "训练周期:4[2400/60000(32%)]\t,Loss:0.022228\t,训练正确率:98.34%\t,                  校验正确率:98.14%\n",
      "训练周期:4[3200/60000(43%)]\t,Loss:0.016189\t,训练正确率:98.28%\t,                  校验正确率:98.04%\n",
      "训练周期:4[4000/60000(53%)]\t,Loss:0.008244\t,训练正确率:98.29%\t,                  校验正确率:97.56%\n",
      "训练周期:4[4800/60000(64%)]\t,Loss:0.021307\t,训练正确率:98.34%\t,                  校验正确率:98.16%\n",
      "训练周期:4[5600/60000(75%)]\t,Loss:0.032874\t,训练正确率:98.37%\t,                  校验正确率:97.60%\n",
      "训练周期:4[6400/60000(85%)]\t,Loss:0.053765\t,训练正确率:98.37%\t,                  校验正确率:97.96%\n",
      "训练周期:4[7200/60000(96%)]\t,Loss:0.032523\t,训练正确率:98.38%\t,                  校验正确率:97.96%\n",
      "训练周期:5[0/60000(0%)]\t,Loss:0.009968\t,训练正确率:100.00%\t,                  校验正确率:98.08%\n",
      "训练周期:5[800/60000(11%)]\t,Loss:0.017509\t,训练正确率:98.53%\t,                  校验正确率:98.28%\n",
      "训练周期:5[1600/60000(21%)]\t,Loss:0.042028\t,训练正确率:98.48%\t,                  校验正确率:98.16%\n",
      "训练周期:5[2400/60000(32%)]\t,Loss:0.066844\t,训练正确率:98.41%\t,                  校验正确率:98.32%\n",
      "训练周期:5[3200/60000(43%)]\t,Loss:0.021736\t,训练正确率:98.37%\t,                  校验正确率:98.32%\n",
      "训练周期:5[4000/60000(53%)]\t,Loss:0.026412\t,训练正确率:98.43%\t,                  校验正确率:98.32%\n",
      "训练周期:5[4800/60000(64%)]\t,Loss:0.096651\t,训练正确率:98.42%\t,                  校验正确率:98.26%\n",
      "训练周期:5[5600/60000(75%)]\t,Loss:0.006293\t,训练正确率:98.46%\t,                  校验正确率:98.16%\n",
      "训练周期:5[6400/60000(85%)]\t,Loss:0.040477\t,训练正确率:98.46%\t,                  校验正确率:98.04%\n",
      "训练周期:5[7200/60000(96%)]\t,Loss:0.087234\t,训练正确率:98.45%\t,                  校验正确率:98.24%\n",
      "训练周期:6[0/60000(0%)]\t,Loss:0.021059\t,训练正确率:98.44%\t,                  校验正确率:98.36%\n",
      "训练周期:6[800/60000(11%)]\t,Loss:0.082687\t,训练正确率:98.95%\t,                  校验正确率:97.92%\n",
      "训练周期:6[1600/60000(21%)]\t,Loss:0.004187\t,训练正确率:98.83%\t,                  校验正确率:98.42%\n",
      "训练周期:6[2400/60000(32%)]\t,Loss:0.006641\t,训练正确率:98.83%\t,                  校验正确率:98.50%\n",
      "训练周期:6[3200/60000(43%)]\t,Loss:0.011129\t,训练正确率:98.72%\t,                  校验正确率:98.42%\n",
      "训练周期:6[4000/60000(53%)]\t,Loss:0.007594\t,训练正确率:98.71%\t,                  校验正确率:98.40%\n",
      "训练周期:6[4800/60000(64%)]\t,Loss:0.008992\t,训练正确率:98.72%\t,                  校验正确率:98.48%\n",
      "训练周期:6[5600/60000(75%)]\t,Loss:0.019262\t,训练正确率:98.70%\t,                  校验正确率:98.56%\n",
      "训练周期:6[6400/60000(85%)]\t,Loss:0.003979\t,训练正确率:98.70%\t,                  校验正确率:98.34%\n",
      "训练周期:6[7200/60000(96%)]\t,Loss:0.022041\t,训练正确率:98.71%\t,                  校验正确率:98.58%\n",
      "训练周期:7[0/60000(0%)]\t,Loss:0.067425\t,训练正确率:98.44%\t,                  校验正确率:98.38%\n",
      "训练周期:7[800/60000(11%)]\t,Loss:0.011205\t,训练正确率:98.82%\t,                  校验正确率:98.28%\n",
      "训练周期:7[1600/60000(21%)]\t,Loss:0.046306\t,训练正确率:98.78%\t,                  校验正确率:98.44%\n",
      "训练周期:7[2400/60000(32%)]\t,Loss:0.135463\t,训练正确率:98.82%\t,                  校验正确率:98.20%\n",
      "训练周期:7[3200/60000(43%)]\t,Loss:0.017196\t,训练正确率:98.82%\t,                  校验正确率:98.30%\n",
      "训练周期:7[4000/60000(53%)]\t,Loss:0.019365\t,训练正确率:98.77%\t,                  校验正确率:98.16%\n",
      "训练周期:7[4800/60000(64%)]\t,Loss:0.018612\t,训练正确率:98.77%\t,                  校验正确率:98.16%\n",
      "训练周期:7[5600/60000(75%)]\t,Loss:0.025353\t,训练正确率:98.78%\t,                  校验正确率:98.36%\n",
      "训练周期:7[6400/60000(85%)]\t,Loss:0.021392\t,训练正确率:98.79%\t,                  校验正确率:98.24%\n",
      "训练周期:7[7200/60000(96%)]\t,Loss:0.007746\t,训练正确率:98.77%\t,                  校验正确率:98.42%\n",
      "训练周期:8[0/60000(0%)]\t,Loss:0.009757\t,训练正确率:100.00%\t,                  校验正确率:98.22%\n",
      "训练周期:8[800/60000(11%)]\t,Loss:0.013340\t,训练正确率:99.01%\t,                  校验正确率:98.32%\n",
      "训练周期:8[1600/60000(21%)]\t,Loss:0.061868\t,训练正确率:98.97%\t,                  校验正确率:98.24%\n",
      "训练周期:8[2400/60000(32%)]\t,Loss:0.012411\t,训练正确率:98.92%\t,                  校验正确率:98.54%\n",
      "训练周期:8[3200/60000(43%)]\t,Loss:0.179661\t,训练正确率:98.87%\t,                  校验正确率:98.46%\n",
      "训练周期:8[4000/60000(53%)]\t,Loss:0.097882\t,训练正确率:98.90%\t,                  校验正确率:98.46%\n",
      "训练周期:8[4800/60000(64%)]\t,Loss:0.002753\t,训练正确率:98.90%\t,                  校验正确率:98.42%\n",
      "训练周期:8[5600/60000(75%)]\t,Loss:0.052697\t,训练正确率:98.90%\t,                  校验正确率:98.34%\n",
      "训练周期:8[6400/60000(85%)]\t,Loss:0.075017\t,训练正确率:98.93%\t,                  校验正确率:98.38%\n",
      "训练周期:8[7200/60000(96%)]\t,Loss:0.066645\t,训练正确率:98.92%\t,                  校验正确率:98.44%\n",
      "训练周期:9[0/60000(0%)]\t,Loss:0.026622\t,训练正确率:98.44%\t,                  校验正确率:98.48%\n",
      "训练周期:9[800/60000(11%)]\t,Loss:0.072872\t,训练正确率:98.84%\t,                  校验正确率:98.54%\n",
      "训练周期:9[1600/60000(21%)]\t,Loss:0.021288\t,训练正确率:98.97%\t,                  校验正确率:98.42%\n",
      "训练周期:9[2400/60000(32%)]\t,Loss:0.006816\t,训练正确率:98.99%\t,                  校验正确率:98.30%\n",
      "训练周期:9[3200/60000(43%)]\t,Loss:0.001336\t,训练正确率:98.96%\t,                  校验正确率:98.30%\n",
      "训练周期:9[4000/60000(53%)]\t,Loss:0.000588\t,训练正确率:98.96%\t,                  校验正确率:98.32%\n",
      "训练周期:9[4800/60000(64%)]\t,Loss:0.007886\t,训练正确率:98.98%\t,                  校验正确率:98.42%\n"
     ]
    },
    {
     "name": "stdout",
     "output_type": "stream",
     "text": [
      "训练周期:9[5600/60000(75%)]\t,Loss:0.015461\t,训练正确率:98.95%\t,                  校验正确率:98.52%\n",
      "训练周期:9[6400/60000(85%)]\t,Loss:0.014747\t,训练正确率:98.94%\t,                  校验正确率:98.50%\n",
      "训练周期:9[7200/60000(96%)]\t,Loss:0.092615\t,训练正确率:98.94%\t,                  校验正确率:98.52%\n",
      "训练周期:10[0/60000(0%)]\t,Loss:0.017284\t,训练正确率:100.00%\t,                  校验正确率:98.20%\n",
      "训练周期:10[800/60000(11%)]\t,Loss:0.056190\t,训练正确率:99.07%\t,                  校验正确率:98.40%\n",
      "训练周期:10[1600/60000(21%)]\t,Loss:0.006445\t,训练正确率:99.07%\t,                  校验正确率:98.52%\n",
      "训练周期:10[2400/60000(32%)]\t,Loss:0.054774\t,训练正确率:99.09%\t,                  校验正确率:98.18%\n",
      "训练周期:10[3200/60000(43%)]\t,Loss:0.007730\t,训练正确率:99.05%\t,                  校验正确率:98.10%\n",
      "训练周期:10[4000/60000(53%)]\t,Loss:0.095121\t,训练正确率:99.07%\t,                  校验正确率:98.22%\n",
      "训练周期:10[4800/60000(64%)]\t,Loss:0.017043\t,训练正确率:99.06%\t,                  校验正确率:98.54%\n",
      "训练周期:10[5600/60000(75%)]\t,Loss:0.024180\t,训练正确率:99.04%\t,                  校验正确率:98.52%\n",
      "训练周期:10[6400/60000(85%)]\t,Loss:0.016207\t,训练正确率:99.02%\t,                  校验正确率:98.52%\n",
      "训练周期:10[7200/60000(96%)]\t,Loss:0.010559\t,训练正确率:99.02%\t,                  校验正确率:98.32%\n",
      "训练周期:11[0/60000(0%)]\t,Loss:0.005098\t,训练正确率:100.00%\t,                  校验正确率:98.46%\n",
      "训练周期:11[800/60000(11%)]\t,Loss:0.022483\t,训练正确率:99.37%\t,                  校验正确率:98.46%\n",
      "训练周期:11[1600/60000(21%)]\t,Loss:0.006016\t,训练正确率:99.27%\t,                  校验正确率:98.32%\n",
      "训练周期:11[2400/60000(32%)]\t,Loss:0.009813\t,训练正确率:99.18%\t,                  校验正确率:98.32%\n",
      "训练周期:11[3200/60000(43%)]\t,Loss:0.003525\t,训练正确率:99.17%\t,                  校验正确率:98.46%\n",
      "训练周期:11[4000/60000(53%)]\t,Loss:0.008021\t,训练正确率:99.16%\t,                  校验正确率:98.28%\n",
      "训练周期:11[4800/60000(64%)]\t,Loss:0.001107\t,训练正确率:99.14%\t,                  校验正确率:98.42%\n",
      "训练周期:11[5600/60000(75%)]\t,Loss:0.009051\t,训练正确率:99.12%\t,                  校验正确率:98.52%\n",
      "训练周期:11[6400/60000(85%)]\t,Loss:0.071017\t,训练正确率:99.10%\t,                  校验正确率:98.62%\n",
      "训练周期:11[7200/60000(96%)]\t,Loss:0.126894\t,训练正确率:99.07%\t,                  校验正确率:98.54%\n",
      "训练周期:12[0/60000(0%)]\t,Loss:0.004127\t,训练正确率:100.00%\t,                  校验正确率:98.38%\n",
      "训练周期:12[800/60000(11%)]\t,Loss:0.040662\t,训练正确率:99.33%\t,                  校验正确率:98.72%\n",
      "训练周期:12[1600/60000(21%)]\t,Loss:0.001428\t,训练正确率:99.30%\t,                  校验正确率:98.72%\n",
      "训练周期:12[2400/60000(32%)]\t,Loss:0.065218\t,训练正确率:99.29%\t,                  校验正确率:98.46%\n",
      "训练周期:12[3200/60000(43%)]\t,Loss:0.062390\t,训练正确率:99.28%\t,                  校验正确率:98.56%\n",
      "训练周期:12[4000/60000(53%)]\t,Loss:0.033753\t,训练正确率:99.27%\t,                  校验正确率:98.68%\n",
      "训练周期:12[4800/60000(64%)]\t,Loss:0.007595\t,训练正确率:99.24%\t,                  校验正确率:98.40%\n",
      "训练周期:12[5600/60000(75%)]\t,Loss:0.016808\t,训练正确率:99.22%\t,                  校验正确率:98.66%\n",
      "训练周期:12[6400/60000(85%)]\t,Loss:0.077138\t,训练正确率:99.18%\t,                  校验正确率:98.64%\n",
      "训练周期:12[7200/60000(96%)]\t,Loss:0.007342\t,训练正确率:99.16%\t,                  校验正确率:98.50%\n",
      "训练周期:13[0/60000(0%)]\t,Loss:0.047965\t,训练正确率:98.44%\t,                  校验正确率:98.54%\n",
      "训练周期:13[800/60000(11%)]\t,Loss:0.023055\t,训练正确率:99.26%\t,                  校验正确率:98.66%\n",
      "训练周期:13[1600/60000(21%)]\t,Loss:0.019437\t,训练正确率:99.28%\t,                  校验正确率:98.50%\n",
      "训练周期:13[2400/60000(32%)]\t,Loss:0.006143\t,训练正确率:99.30%\t,                  校验正确率:98.36%\n",
      "训练周期:13[3200/60000(43%)]\t,Loss:0.010485\t,训练正确率:99.30%\t,                  校验正确率:98.46%\n",
      "训练周期:13[4000/60000(53%)]\t,Loss:0.002450\t,训练正确率:99.27%\t,                  校验正确率:98.58%\n",
      "训练周期:13[4800/60000(64%)]\t,Loss:0.002597\t,训练正确率:99.24%\t,                  校验正确率:98.26%\n",
      "训练周期:13[5600/60000(75%)]\t,Loss:0.062004\t,训练正确率:99.18%\t,                  校验正确率:98.52%\n",
      "训练周期:13[6400/60000(85%)]\t,Loss:0.003803\t,训练正确率:99.20%\t,                  校验正确率:98.50%\n",
      "训练周期:13[7200/60000(96%)]\t,Loss:0.001560\t,训练正确率:99.22%\t,                  校验正确率:98.62%\n",
      "训练周期:14[0/60000(0%)]\t,Loss:0.008147\t,训练正确率:100.00%\t,                  校验正确率:98.64%\n",
      "训练周期:14[800/60000(11%)]\t,Loss:0.003172\t,训练正确率:99.44%\t,                  校验正确率:98.56%\n",
      "训练周期:14[1600/60000(21%)]\t,Loss:0.019247\t,训练正确率:99.39%\t,                  校验正确率:98.40%\n",
      "训练周期:14[2400/60000(32%)]\t,Loss:0.014396\t,训练正确率:99.36%\t,                  校验正确率:98.06%\n",
      "训练周期:14[3200/60000(43%)]\t,Loss:0.000818\t,训练正确率:99.32%\t,                  校验正确率:98.48%\n",
      "训练周期:14[4000/60000(53%)]\t,Loss:0.011830\t,训练正确率:99.35%\t,                  校验正确率:98.72%\n",
      "训练周期:14[4800/60000(64%)]\t,Loss:0.012642\t,训练正确率:99.31%\t,                  校验正确率:98.60%\n",
      "训练周期:14[5600/60000(75%)]\t,Loss:0.054684\t,训练正确率:99.29%\t,                  校验正确率:98.40%\n",
      "训练周期:14[6400/60000(85%)]\t,Loss:0.018096\t,训练正确率:99.28%\t,                  校验正确率:98.42%\n",
      "训练周期:14[7200/60000(96%)]\t,Loss:0.025848\t,训练正确率:99.29%\t,                  校验正确率:98.70%\n",
      "训练周期:15[0/60000(0%)]\t,Loss:0.005485\t,训练正确率:100.00%\t,                  校验正确率:98.56%\n",
      "训练周期:15[800/60000(11%)]\t,Loss:0.023384\t,训练正确率:99.44%\t,                  校验正确率:98.70%\n",
      "训练周期:15[1600/60000(21%)]\t,Loss:0.054711\t,训练正确率:99.41%\t,                  校验正确率:98.56%\n",
      "训练周期:15[2400/60000(32%)]\t,Loss:0.005644\t,训练正确率:99.40%\t,                  校验正确率:98.52%\n",
      "训练周期:15[3200/60000(43%)]\t,Loss:0.007583\t,训练正确率:99.35%\t,                  校验正确率:98.64%\n",
      "训练周期:15[4000/60000(53%)]\t,Loss:0.087977\t,训练正确率:99.30%\t,                  校验正确率:98.18%\n",
      "训练周期:15[4800/60000(64%)]\t,Loss:0.001716\t,训练正确率:99.29%\t,                  校验正确率:98.36%\n",
      "训练周期:15[5600/60000(75%)]\t,Loss:0.015146\t,训练正确率:99.27%\t,                  校验正确率:98.50%\n",
      "训练周期:15[6400/60000(85%)]\t,Loss:0.000453\t,训练正确率:99.29%\t,                  校验正确率:98.62%\n",
      "训练周期:15[7200/60000(96%)]\t,Loss:0.000868\t,训练正确率:99.30%\t,                  校验正确率:98.46%\n",
      "训练周期:16[0/60000(0%)]\t,Loss:0.012737\t,训练正确率:100.00%\t,                  校验正确率:98.68%\n",
      "训练周期:16[800/60000(11%)]\t,Loss:0.006803\t,训练正确率:99.54%\t,                  校验正确率:98.68%\n",
      "训练周期:16[1600/60000(21%)]\t,Loss:0.001919\t,训练正确率:99.48%\t,                  校验正确率:98.32%\n",
      "训练周期:16[2400/60000(32%)]\t,Loss:0.000765\t,训练正确率:99.47%\t,                  校验正确率:98.62%\n",
      "训练周期:16[3200/60000(43%)]\t,Loss:0.006763\t,训练正确率:99.44%\t,                  校验正确率:98.64%\n",
      "训练周期:16[4000/60000(53%)]\t,Loss:0.005933\t,训练正确率:99.41%\t,                  校验正确率:98.58%\n",
      "训练周期:16[4800/60000(64%)]\t,Loss:0.001540\t,训练正确率:99.43%\t,                  校验正确率:98.54%\n",
      "训练周期:16[5600/60000(75%)]\t,Loss:0.047048\t,训练正确率:99.37%\t,                  校验正确率:98.50%\n",
      "训练周期:16[6400/60000(85%)]\t,Loss:0.010357\t,训练正确率:99.35%\t,                  校验正确率:98.68%\n",
      "训练周期:16[7200/60000(96%)]\t,Loss:0.030975\t,训练正确率:99.34%\t,                  校验正确率:98.44%\n",
      "训练周期:17[0/60000(0%)]\t,Loss:0.017981\t,训练正确率:98.44%\t,                  校验正确率:98.10%\n",
      "训练周期:17[800/60000(11%)]\t,Loss:0.018100\t,训练正确率:99.27%\t,                  校验正确率:98.62%\n",
      "训练周期:17[1600/60000(21%)]\t,Loss:0.001200\t,训练正确率:99.41%\t,                  校验正确率:98.56%\n",
      "训练周期:17[2400/60000(32%)]\t,Loss:0.028102\t,训练正确率:99.42%\t,                  校验正确率:98.78%\n",
      "训练周期:17[3200/60000(43%)]\t,Loss:0.015829\t,训练正确率:99.41%\t,                  校验正确率:98.38%\n",
      "训练周期:17[4000/60000(53%)]\t,Loss:0.084213\t,训练正确率:99.38%\t,                  校验正确率:98.60%\n",
      "训练周期:17[4800/60000(64%)]\t,Loss:0.019871\t,训练正确率:99.36%\t,                  校验正确率:98.40%\n",
      "训练周期:17[5600/60000(75%)]\t,Loss:0.050610\t,训练正确率:99.35%\t,                  校验正确率:98.60%\n",
      "训练周期:17[6400/60000(85%)]\t,Loss:0.029547\t,训练正确率:99.36%\t,                  校验正确率:98.42%\n",
      "训练周期:17[7200/60000(96%)]\t,Loss:0.006968\t,训练正确率:99.35%\t,                  校验正确率:98.62%\n",
      "训练周期:18[0/60000(0%)]\t,Loss:0.005846\t,训练正确率:100.00%\t,                  校验正确率:98.56%\n",
      "训练周期:18[800/60000(11%)]\t,Loss:0.010241\t,训练正确率:99.55%\t,                  校验正确率:98.60%\n",
      "训练周期:18[1600/60000(21%)]\t,Loss:0.003385\t,训练正确率:99.53%\t,                  校验正确率:98.60%\n",
      "训练周期:18[2400/60000(32%)]\t,Loss:0.008977\t,训练正确率:99.49%\t,                  校验正确率:98.90%\n",
      "训练周期:18[3200/60000(43%)]\t,Loss:0.026197\t,训练正确率:99.48%\t,                  校验正确率:98.62%\n",
      "训练周期:18[4000/60000(53%)]\t,Loss:0.031670\t,训练正确率:99.40%\t,                  校验正确率:98.80%\n",
      "训练周期:18[4800/60000(64%)]\t,Loss:0.002146\t,训练正确率:99.38%\t,                  校验正确率:98.66%\n",
      "训练周期:18[5600/60000(75%)]\t,Loss:0.003116\t,训练正确率:99.38%\t,                  校验正确率:98.60%\n",
      "训练周期:18[6400/60000(85%)]\t,Loss:0.001067\t,训练正确率:99.39%\t,                  校验正确率:98.68%\n",
      "训练周期:18[7200/60000(96%)]\t,Loss:0.008550\t,训练正确率:99.39%\t,                  校验正确率:98.60%\n",
      "训练周期:19[0/60000(0%)]\t,Loss:0.155994\t,训练正确率:98.44%\t,                  校验正确率:98.70%\n",
      "训练周期:19[800/60000(11%)]\t,Loss:0.011116\t,训练正确率:99.43%\t,                  校验正确率:98.84%\n",
      "训练周期:19[1600/60000(21%)]\t,Loss:0.007520\t,训练正确率:99.53%\t,                  校验正确率:98.72%\n"
     ]
    },
    {
     "name": "stdout",
     "output_type": "stream",
     "text": [
      "训练周期:19[2400/60000(32%)]\t,Loss:0.003732\t,训练正确率:99.53%\t,                  校验正确率:98.60%\n",
      "训练周期:19[3200/60000(43%)]\t,Loss:0.001972\t,训练正确率:99.50%\t,                  校验正确率:98.42%\n",
      "训练周期:19[4000/60000(53%)]\t,Loss:0.001683\t,训练正确率:99.52%\t,                  校验正确率:98.64%\n",
      "训练周期:19[4800/60000(64%)]\t,Loss:0.001456\t,训练正确率:99.51%\t,                  校验正确率:98.52%\n",
      "训练周期:19[5600/60000(75%)]\t,Loss:0.003239\t,训练正确率:99.47%\t,                  校验正确率:98.46%\n",
      "训练周期:19[6400/60000(85%)]\t,Loss:0.003646\t,训练正确率:99.45%\t,                  校验正确率:98.50%\n",
      "训练周期:19[7200/60000(96%)]\t,Loss:0.027481\t,训练正确率:99.42%\t,                  校验正确率:98.54%\n"
     ]
    }
   ],
   "source": [
    "# 新建一个卷积神经网络的实例，此时ConvNet 的 __init__()函数会被自动调用\n",
    "net = ConvNet()\n",
    "\n",
    "# Loss 函数的定义，交叉熵\n",
    "criterion = nn.CrossEntropyLoss()\n",
    "\n",
    "# 定义优化器，普通的随机梯度下降法\n",
    "# optimizer = optim.SGD(net.parameters(),lr=1e-3,momentum=0.9)\n",
    "optimizer = optim.Adam(net.parameters(),lr=1e-3)\n",
    "\n",
    "# 记录准确率等数值的容器\n",
    "record = []\n",
    "\n",
    "# 每若干步就记一次卷积核\n",
    "weights = []\n",
    "\n",
    "# 开始训练循环\n",
    "for epoch in range(num_epochs):\n",
    "    # 记录训练数据集准确率的容器\n",
    "    train_rights = []\n",
    "    ''' 下面的enumerate 起到构造一个枚举器的作用。\n",
    "        在对train_loader 做循环迭代时，enumerate会自动输出一个数字指示循环了几次，\n",
    "        并记录在batch_idx中，它就等于0，1，2，3，...train_loader 没迭代一次，\n",
    "        就会输出一对数据data和target，分别对应一个批中的手写数字图及对应的标签'''\n",
    "    \n",
    "    # 针对容器中每一个批进行循环\n",
    "    for batch_idx,(data,target) in enumerate(train_loader):\n",
    "        # 将 Tensor 转化为 Variable ，data为一批图像，target为一批标签\n",
    "        data,target = Variable(data),Variable(target)\n",
    "        # 给网络模型做标记，标志着模型在训练集上训练\n",
    "        # 这种区分主要是为了打开关闭net的training标志，从而决定是否运行dropout\n",
    "        net.train()\n",
    "        \n",
    "        # 神经网络完成一次前馈计算过程，得到预测输出output\n",
    "        output = net(data)\n",
    "        # 将output与标签target比较，计算误差\n",
    "        loss = criterion(output,target)\n",
    "        # 清空梯度\n",
    "        optimizer.zero_grad()\n",
    "        # 反向传播\n",
    "        loss.backward()\n",
    "        # 一步随机梯度下降算法\n",
    "        optimizer.step()\n",
    "        \n",
    "        # 计算准确率所需数值，返回数值为（正确样例数，总样本数）\n",
    "        right = rightness(output,target)\n",
    "        # 将计算结果装到列表容器train_rights中\n",
    "        train_rights.append(right)\n",
    "        \n",
    "        # 每隔100个batch_size执行一次打印\n",
    "        if batch_idx % 100 == 0:\n",
    "            # 给网络模型做标记，标志着模型在训练集上训练\n",
    "            net.eval()\n",
    "            # 记录校验数据集准确率的容器\n",
    "            val_rights = []\n",
    "            \n",
    "            # 在开始校验集上做循环，计算校验集上的准确率\n",
    "            for (data,target) in validation_loader:\n",
    "                data,target = Variable(data),Variable(target)\n",
    "                # 完成一次前馈计算过程，得到目前训练得到的模型net在校验集上的表现，\n",
    "                output = net(data)\n",
    "                # 计算准确率所需的数值，返回正确的数值为（正确样例数，总样本数）\n",
    "                right = rightness(output,target)\n",
    "                val_rights.append(right)\n",
    "            \n",
    "            # 分别计算目前已经计算过的训练集以及全部校验集上的模型表现：分类准确率\n",
    "            # train_r 为一个二元组，分别记录经历过的所有训练集中分类正确的数量和该集合中的总样本数\n",
    "            # train_r[0]/train_r[1] 是训练集的分类准确度，val_r[0]/val_r[1]是校验集的分类准确度\n",
    "            train_r = (sum([tup[0] for tup in train_rights]),sum([tup[1] for tup in train_rights]))\n",
    "            # val_r 为一个二元组，分别记录校验集中分类正确的数量和该集合中总的样本数\n",
    "            val_r = (sum([tup[0] for tup in val_rights]),sum([tup[1] for tup in val_rights]))\n",
    "            \n",
    "            # 打印准确率等数值，其中正确率为本训练周期epoch开始后到目前批的正确率的平均值\n",
    "            print('训练周期:{}[{}/{}({:.0f}%)]\\t,Loss:{:.6f}\\t,训练正确率:{:.2f}%\\t,\\\n",
    "                  校验正确率:{:.2f}%'.format(\n",
    "                        epoch,batch_idx*len(data),len(train_loader.dataset),\n",
    "                        100.*batch_idx/len(train_loader),loss.data,\n",
    "                        100.*train_r[0].numpy()/train_r[1],\n",
    "                        100.*val_r[0].numpy()/val_r[1]))\n",
    "            # 将准确率和权重等数值加载到容器中，方便后续的处理\n",
    "            record.append((100 - 100. * train_r[0] / train_r[1],100 - 100. * val_r[0] / val_r[1]))\n",
    "            \n",
    "            # weights 记录了训练周期中所有卷积核的演化过程，net.conv1.weight 提取出了第一层卷积核的权重\n",
    "            # clone 是将weight.data 中的数据做一个备份放到列表中\n",
    "            # 否则当weight.data 变化时，列表中的每一项数值也会联动\n",
    "            # 这里使用clone 这个函数很重要\n",
    "            weights.append([net.conv1.weight.data.clone(),net.conv1.bias.data.clone(),\n",
    "                           net.conv2.weight.data.clone(),net.conv2.bias.data.clone()])\n",
    "        "
   ]
  },
  {
   "cell_type": "code",
   "execution_count": 53,
   "metadata": {},
   "outputs": [
    {
     "name": "stdout",
     "output_type": "stream",
     "text": [
      "99.36\n"
     ]
    }
   ],
   "source": [
    "# 在测试集上分批运行，并计算总的正确率\n",
    "net.eval()  # 标志者模型当前为运行阶段\n",
    "vals = []   # 记录准确率所用的列表\n",
    "\n",
    "# 对测试数据集进行循环\n",
    "for data,target in test_loader:\n",
    "#     data,target = Variable(data,volatile=True),Variable(target)\n",
    "    data,target = data.clone().detach().requires_grad_(True),target.clone().detach()\n",
    "    # 将特征数据输入到网络，得到分类的输出\n",
    "    output = net(data)\n",
    "    # 获得正确的样本数以及总样本数\n",
    "    val = rightness(output,target)\n",
    "    # 记录结果\n",
    "    vals.append(val)\n",
    "    \n",
    "# 计算准确率\n",
    "rights = (sum([tup[0] for tup in vals]),sum([tup[1] for tup in vals]))\n",
    "right_rate = 100. * rights[0].numpy() / rights[1]\n",
    "print(right_rate)"
   ]
  },
  {
   "cell_type": "code",
   "execution_count": 54,
   "metadata": {},
   "outputs": [
    {
     "data": {
      "text/plain": [
       "Text(0, 0.5, 'Error rate')"
      ]
     },
     "execution_count": 54,
     "metadata": {},
     "output_type": "execute_result"
    },
    {
     "data": {
      "image/png": "[encoded data removed]",
      "text/plain": [
       "<Figure size 720x504 with 1 Axes>"
      ]
     },
     "metadata": {
      "needs_background": "light"
     },
     "output_type": "display_data"
    }
   ],
   "source": [
    "# 绘制训练过程的误差曲线，校验集和测试集上的错误率\n",
    "plt.figure(figsize=(10,7))\n",
    "plt.plot(record)\n",
    "# record 记载了每一个打印周期记录的训练集和校验集上的准确度\n",
    "plt.xlabel('Steps')\n",
    "plt.ylabel('Error rate')"
   ]
  },
  {
   "cell_type": "code",
   "execution_count": 75,
   "metadata": {},
   "outputs": [
    {
     "name": "stdout",
     "output_type": "stream",
     "text": [
      "标签是： 2\n"
     ]
    },
    {
     "data": {
      "image/png": "[encoded data removed]",
      "text/plain": [
       "<Figure size 432x288 with 1 Axes>"
      ]
     },
     "metadata": {
      "needs_background": "light"
     },
     "output_type": "display_data"
    }
   ],
   "source": [
    "# 随便从测试集中读入一张图片，并检验模型的分类结果，并绘制出来\n",
    "idx = 2500\n",
    "muteimg = test_dataset[idx][0].numpy()\n",
    "plt.imshow(muteimg[0])\n",
    "print('标签是：',test_dataset[idx][1])"
   ]
  },
  {
   "cell_type": "markdown",
   "metadata": {},
   "source": [
    "剖析卷积神经网络\n",
    "------\n"
   ]
  },
  {
   "cell_type": "code",
   "execution_count": 76,
   "metadata": {},
   "outputs": [
    {
     "data": {
      "image/png": "[encoded data removed]",
      "text/plain": [
       "<Figure size 720x504 with 4 Axes>"
      ]
     },
     "metadata": {
      "needs_background": "light"
     },
     "output_type": "display_data"
    }
   ],
   "source": [
    "# 提取第一层卷积层的卷积核\n",
    "plt.figure(figsize=(10,7))\n",
    "for i in range(4):\n",
    "    plt.subplot(1,4,i+1)\n",
    "    plt.axis('off')\n",
    "    # 提取第一层卷积核中的权重值，注意conv1是net的属性\n",
    "    plt.imshow(net.conv1.weight.data.numpy()[i,0,...])"
   ]
  },
  {
   "cell_type": "code",
   "execution_count": 77,
   "metadata": {},
   "outputs": [
    {
     "data": {
      "text/plain": [
       "<matplotlib.axes._subplots.AxesSubplot at 0x1b92d7efc48>"
      ]
     },
     "execution_count": 77,
     "metadata": {},
     "output_type": "execute_result"
    },
    {
     "data": {
      "image/png": "[encoded data removed]",
      "text/plain": [
       "<Figure size 432x288 with 1 Axes>"
      ]
     },
     "metadata": {
      "needs_background": "light"
     },
     "output_type": "display_data"
    }
   ],
   "source": [
    "plt.subplot(1,4,2)"
   ]
  },
  {
   "cell_type": "code",
   "execution_count": 78,
   "metadata": {},
   "outputs": [
    {
     "data": {
      "image/png": "[encoded data removed]",
      "text/plain": [
       "<Figure size 720x504 with 4 Axes>"
      ]
     },
     "metadata": {
      "needs_background": "light"
     },
     "output_type": "display_data"
    },
    {
     "data": {
      "image/png": "[encoded data removed]",
      "text/plain": [
       "<Figure size 720x504 with 4 Axes>"
      ]
     },
     "metadata": {
      "needs_background": "light"
     },
     "output_type": "display_data"
    },
    {
     "data": {
      "image/png": "[encoded data removed]",
      "text/plain": [
       "<Figure size 720x504 with 4 Axes>"
      ]
     },
     "metadata": {
      "needs_background": "light"
     },
     "output_type": "display_data"
    },
    {
     "data": {
      "image/png": "[encoded data removed]",
      "text/plain": [
       "<Figure size 720x504 with 4 Axes>"
      ]
     },
     "metadata": {
      "needs_background": "light"
     },
     "output_type": "display_data"
    },
    {
     "data": {
      "image/png": "[encoded data removed]",
      "text/plain": [
       "<Figure size 720x504 with 4 Axes>"
      ]
     },
     "metadata": {
      "needs_background": "light"
     },
     "output_type": "display_data"
    },
    {
     "data": {
      "image/png": "[encoded data removed]",
      "text/plain": [
       "<Figure size 720x504 with 4 Axes>"
      ]
     },
     "metadata": {
      "needs_background": "light"
     },
     "output_type": "display_data"
    },
    {
     "data": {
      "image/png": "[encoded data removed]",
      "text/plain": [
       "<Figure size 720x504 with 4 Axes>"
      ]
     },
     "metadata": {
      "needs_background": "light"
     },
     "output_type": "display_data"
    },
    {
     "data": {
      "image/png": "[encoded data removed]",
      "text/plain": [
       "<Figure size 720x504 with 4 Axes>"
      ]
     },
     "metadata": {
      "needs_background": "light"
     },
     "output_type": "display_data"
    },
    {
     "data": {
      "image/png": "[encoded data removed]",
      "text/plain": [
       "<Figure size 720x504 with 4 Axes>"
      ]
     },
     "metadata": {
      "needs_background": "light"
     },
     "output_type": "display_data"
    },
    {
     "data": {
      "image/png": "[encoded data removed]",
      "text/plain": [
       "<Figure size 720x504 with 4 Axes>"
      ]
     },
     "metadata": {
      "needs_background": "light"
     },
     "output_type": "display_data"
    },
    {
     "data": {
      "image/png": "[encoded data removed]",
      "text/plain": [
       "<Figure size 720x504 with 4 Axes>"
      ]
     },
     "metadata": {
      "needs_background": "light"
     },
     "output_type": "display_data"
    },
    {
     "data": {
      "image/png": "[encoded data removed]",
      "text/plain": [
       "<Figure size 720x504 with 4 Axes>"
      ]
     },
     "metadata": {
      "needs_background": "light"
     },
     "output_type": "display_data"
    },
    {
     "data": {
      "image/png": "[encoded data removed]",
      "text/plain": [
       "<Figure size 720x504 with 4 Axes>"
      ]
     },
     "metadata": {
      "needs_background": "light"
     },
     "output_type": "display_data"
    },
    {
     "data": {
      "image/png": "[encoded data removed]",
      "text/plain": [
       "<Figure size 720x504 with 4 Axes>"
      ]
     },
     "metadata": {
      "needs_background": "light"
     },
     "output_type": "display_data"
    },
    {
     "data": {
      "image/png": "[encoded data removed]",
      "text/plain": [
       "<Figure size 720x504 with 4 Axes>"
      ]
     },
     "metadata": {
      "needs_background": "light"
     },
     "output_type": "display_data"
    },
    {
     "data": {
      "image/png": "[encoded data removed]",
      "text/plain": [
       "<Figure size 720x504 with 4 Axes>"
      ]
     },
     "metadata": {
      "needs_background": "light"
     },
     "output_type": "display_data"
    },
    {
     "data": {
      "image/png": "[encoded data removed]",
      "text/plain": [
       "<Figure size 720x504 with 4 Axes>"
      ]
     },
     "metadata": {
      "needs_background": "light"
     },
     "output_type": "display_data"
    },
    {
     "data": {
      "image/png": "[encoded data removed]",
      "text/plain": [
       "<Figure size 720x504 with 4 Axes>"
      ]
     },
     "metadata": {
      "needs_background": "light"
     },
     "output_type": "display_data"
    },
    {
     "data": {
      "image/png": "[encoded data removed]",
      "text/plain": [
       "<Figure size 720x504 with 4 Axes>"
      ]
     },
     "metadata": {
      "needs_background": "light"
     },
     "output_type": "display_data"
    },
    {
     "data": {
      "image/png": "[encoded data removed]",
      "text/plain": [
       "<Figure size 720x504 with 4 Axes>"
      ]
     },
     "metadata": {
      "needs_background": "light"
     },
     "output_type": "display_data"
    }
   ],
   "source": [
    "# 将记录在容器中的卷积核权重历史演化数据打印出来\n",
    "i = 0\n",
    "for tup in weights:\n",
    "    if i % 10 == 0 :\n",
    "        layer1 = tup[0]\n",
    "        fig = plt.figure(figsize=(10,7))\n",
    "        for j in range(4):\n",
    "            plt.subplot(1,4,j+1)\n",
    "            plt.axis('off')\n",
    "            plt.imshow(layer1.data.numpy()[j,0,...])\n",
    "    i += 1"
   ]
  },
  {
   "cell_type": "code",
   "execution_count": 79,
   "metadata": {},
   "outputs": [
    {
     "data": {
      "image/png": "[encoded data removed]",
      "text/plain": [
       "<Figure size 720x504 with 4 Axes>"
      ]
     },
     "metadata": {
      "needs_background": "light"
     },
     "output_type": "display_data"
    }
   ],
   "source": [
    "# 调用net的retrieve_features 方法可以抽取出输入当前数据后输出的所有特征图（第一个卷积层和第二个卷积层）\n",
    "# 首先定义读入的图片，它是从test_dataset 中提取第idx个批次的第0个图\n",
    "# 其次 unsqueeze 的作用是在最前面添加一维\n",
    "# 目的是让这个input_x是4维的，这样才能输入给net。补充的那一维度表示batch\n",
    "input_x = test_dataset[idx][0].unsqueeze(0)\n",
    "# feature_maps 是有两个元素的列表，分别表示第一层和第二层卷积的所有特征图\n",
    "feature_maps = net.retrieve_features(input_x)\n",
    "\n",
    "plt.figure(figsize=(10,7))\n",
    "# 打印出四个特征图\n",
    "for i in range(4):\n",
    "    plt.subplot(1,4,i+1)\n",
    "    plt.axis('off')\n",
    "    plt.imshow(feature_maps[0][0,i,...].data.numpy())"
   ]
  },
  {
   "cell_type": "code",
   "execution_count": 80,
   "metadata": {},
   "outputs": [
    {
     "data": {
      "image/png": "[encoded data removed]",
      "text/plain": [
       "<Figure size 1080x720 with 32 Axes>"
      ]
     },
     "metadata": {
      "needs_background": "light"
     },
     "output_type": "display_data"
    }
   ],
   "source": [
    "# 绘制第二层的卷积核，每一列对应一个卷积核，一共有8个卷积核\n",
    "plt.figure(figsize=(15,10))\n",
    "for i in range(4):\n",
    "    for j in range(8):\n",
    "        plt.subplot(4,8,i*8+j+1)\n",
    "        plt.axis('off')\n",
    "        plt.imshow(net.conv2.weight.data.numpy()[j,i,...])"
   ]
  },
  {
   "cell_type": "code",
   "execution_count": 81,
   "metadata": {},
   "outputs": [
    {
     "data": {
      "image/png": "[encoded data removed]",
      "text/plain": [
       "<Figure size 720x504 with 8 Axes>"
      ]
     },
     "metadata": {
      "needs_background": "light"
     },
     "output_type": "display_data"
    }
   ],
   "source": [
    "# 绘制第二层的特征图，一共有8个\n",
    "plt.figure(figsize=(10,7))\n",
    "for i in range(8):\n",
    "    plt.subplot(2,4,i+1)\n",
    "    plt.axis('off')\n",
    "    plt.imshow(feature_maps[1][0,i,...].data.numpy())"
   ]
  },
  {
   "cell_type": "markdown",
   "metadata": {},
   "source": [
    "卷积神经网络的鲁棒性试验\n",
    "-----"
   ]
  },
  {
   "cell_type": "code",
   "execution_count": 82,
   "metadata": {},
   "outputs": [
    {
     "data": {
      "text/plain": [
       "<matplotlib.image.AxesImage at 0x1b92b846ec8>"
      ]
     },
     "execution_count": 82,
     "metadata": {},
     "output_type": "execute_result"
    },
    {
     "data": {
      "image/png": "[encoded data removed]",
      "text/plain": [
       "<Figure size 432x288 with 1 Axes>"
      ]
     },
     "metadata": {
      "needs_background": "light"
     },
     "output_type": "display_data"
    }
   ],
   "source": [
    "# 提取test_dataset 中第idx个批次第0个图第0个通道对应的图像，定义为a\n",
    "a = test_dataset[idx][0][0]\n",
    "\n",
    "# 将平移后的新图像放入b中，根据a给b赋值\n",
    "# 全0的28X28矩阵\n",
    "b = torch.zeros(a.size())\n",
    "# 平移的长度为三个像素\n",
    "w = 3\n",
    "# 相对于b中的任意像素i，j，等于a中的i，j+w 位置的像素\n",
    "for i in range(a.size()[0]):\n",
    "    for j in range(0,a.size()[1]-w):\n",
    "        b[i,j] = a[i,j+w]\n",
    "# 将b画出来\n",
    "muteimg = b.numpy()\n",
    "plt.imshow(muteimg)"
   ]
  },
  {
   "cell_type": "code",
   "execution_count": 83,
   "metadata": {},
   "outputs": [
    {
     "data": {
      "text/plain": [
       "<matplotlib.image.AxesImage at 0x1b92a9d3108>"
      ]
     },
     "execution_count": 83,
     "metadata": {},
     "output_type": "execute_result"
    },
    {
     "data": {
      "image/png": "[encoded data removed]",
      "text/plain": [
       "<Figure size 432x288 with 1 Axes>"
      ]
     },
     "metadata": {
      "needs_background": "light"
     },
     "output_type": "display_data"
    }
   ],
   "source": [
    "plt.imshow(a)"
   ]
  },
  {
   "cell_type": "code",
   "execution_count": 85,
   "metadata": {},
   "outputs": [
    {
     "name": "stdout",
     "output_type": "stream",
     "text": [
      "tensor([2])\n"
     ]
    }
   ],
   "source": [
    "# 把b喂给神经网络，得到分类结果pred，（prediction是预测的每一个类别的概率的对数值），并把结果打印出来\n",
    "prediction = net(b.unsqueeze(0).unsqueeze(0))\n",
    "pred = torch.max(prediction.data,1)[1]\n",
    "print(pred)"
   ]
  },
  {
   "cell_type": "code",
   "execution_count": 88,
   "metadata": {},
   "outputs": [
    {
     "data": {
      "image/png": "[encoded data removed]",
      "text/plain": [
       "<Figure size 720x504 with 4 Axes>"
      ]
     },
     "metadata": {
      "needs_background": "light"
     },
     "output_type": "display_data"
    },
    {
     "data": {
      "image/png": "[encoded data removed]",
      "text/plain": [
       "<Figure size 720x504 with 8 Axes>"
      ]
     },
     "metadata": {
      "needs_background": "light"
     },
     "output_type": "display_data"
    }
   ],
   "source": [
    "# 提取b对应的featuremap结果\n",
    "feature_maps = net.retrieve_features(b.unsqueeze(0).unsqueeze(0))\n",
    "plt.figure(figsize=(10,7))\n",
    "\n",
    "for i in range(4):\n",
    "    plt.subplot(1,4,i+1)\n",
    "    plt.axis('off')\n",
    "    plt.imshow(feature_maps[0][0,i,...].data.numpy())\n",
    "    \n",
    "plt.figure(figsize=(10,7))\n",
    "for i in range(8):\n",
    "    plt.subplot(2,4,i+1)\n",
    "    plt.axis('off')\n",
    "    plt.imshow(feature_maps[1][0,i,...].data.numpy())"
   ]
  },
  {
   "cell_type": "code",
   "execution_count": 106,
   "metadata": {},
   "outputs": [
    {
     "name": "stdout",
     "output_type": "stream",
     "text": [
      "torch.Size([1, 1, 28, 28])\n",
      "tensor([[-2.4078e+01, -3.3928e+01, -3.8978e+01, -3.2105e+01, -3.5093e+01,\n",
      "         -1.3754e+01, -1.0729e-06, -5.3330e+01, -1.8960e+01, -3.6887e+01]],\n",
      "       grad_fn=<LogSoftmaxBackward>)\n",
      "tensor([6])\n",
      "6\n"
     ]
    }
   ],
   "source": [
    "h = test_dataset[6667][0].unsqueeze(0)\n",
    "print(h.size())\n",
    "prediction = net(h)\n",
    "print(prediction)\n",
    "pred = torch.max(prediction.data,1)[1]\n",
    "print(pred)\n",
    "print(test_dataset[6667][1])"
   ]
  },
  {
   "cell_type": "code",
   "execution_count": null,
   "metadata": {},
   "outputs": [],
   "source": []
  }
 ],
 "metadata": {
  "kernelspec": {
   "display_name": "Python [conda env:deeplearning3] *",
   "language": "python",
   "name": "conda-env-deeplearning3-py"
  },
  "language_info": {
   "codemirror_mode": {
    "name": "ipython",
    "version": 3
   },
   "file_extension": ".py",
   "mimetype": "text/x-python",
   "name": "python",
   "nbconvert_exporter": "python",
   "pygments_lexer": "ipython3",
   "version": "3.7.5"
  }
 },
 "nbformat": 4,
 "nbformat_minor": 2
}
